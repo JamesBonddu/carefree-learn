{
 "cells": [
  {
   "cell_type": "markdown",
   "metadata": {},
   "source": [
    "## MNIST Classification\n",
    "\n",
    "The MNIST dataset is a dataset of handwritten digits that is commonly used as the 'Hello World' dataset in Deep Learning domain. It contains 60,000 training images and 10,000 testing images, and\n",
    "`carefree-learn` provided a straightforward API to access it.\n",
    "\n",
    "MNIST dataset can be used for training various image processing systems. In this article, we will focus on how to build our custom models to solve the classification task on MNIST dataset."
   ]
  },
  {
   "cell_type": "code",
   "execution_count": 1,
   "metadata": {},
   "outputs": [
    {
     "data": {
      "text/html": [
       "<style type='text/css'>\n",
       ".datatable table.frame { margin-bottom: 0; }\n",
       ".datatable table.frame thead { border-bottom: none; }\n",
       ".datatable table.frame tr.coltypes td {  color: #FFFFFF;  line-height: 6px;  padding: 0 0.5em;}\n",
       ".datatable .bool    { background: #DDDD99; }\n",
       ".datatable .object  { background: #565656; }\n",
       ".datatable .int     { background: #5D9E5D; }\n",
       ".datatable .float   { background: #4040CC; }\n",
       ".datatable .str     { background: #CC4040; }\n",
       ".datatable .row_index {  background: var(--jp-border-color3);  border-right: 1px solid var(--jp-border-color0);  color: var(--jp-ui-font-color3);  font-size: 9px;}\n",
       ".datatable .frame tr.coltypes .row_index {  background: var(--jp-border-color0);}\n",
       ".datatable th:nth-child(2) { padding-left: 12px; }\n",
       ".datatable .hellipsis {  color: var(--jp-cell-editor-border-color);}\n",
       ".datatable .vellipsis {  background: var(--jp-layout-color0);  color: var(--jp-cell-editor-border-color);}\n",
       ".datatable .na {  color: var(--jp-cell-editor-border-color);  font-size: 80%;}\n",
       ".datatable .footer { font-size: 9px; }\n",
       ".datatable .frame_dimensions {  background: var(--jp-border-color3);  border-top: 1px solid var(--jp-border-color0);  color: var(--jp-ui-font-color3);  display: inline-block;  opacity: 0.6;  padding: 1px 10px 1px 5px;}\n",
       "</style>\n"
      ],
      "text/plain": [
       "<IPython.core.display.HTML object>"
      ]
     },
     "metadata": {},
     "output_type": "display_data"
    },
    {
     "data": {
      "text/plain": [
       "<torch._C.Generator at 0x287b8460e28>"
      ]
     },
     "execution_count": 1,
     "metadata": {},
     "output_type": "execute_result"
    }
   ],
   "source": [
    "# preparations\n",
    "\n",
    "import torch\n",
    "import cflearn\n",
    "\n",
    "import numpy as np\n",
    "import torch.nn as nn\n",
    "\n",
    "# MNIST dataset could be prepared with this one line of code\n",
    "data = cflearn.cv.MNISTData(batch_size=16, transform=\"to_tensor\")\n",
    "\n",
    "# for reproduction\n",
    "np.random.seed(142857)\n",
    "torch.manual_seed(142857)"
   ]
  },
  {
   "cell_type": "markdown",
   "metadata": {},
   "source": [
    "As shown above, the MNIST dataset could be easily turned into a `DLDataModule` instance, which is the common data interface used in `carefree-learn`.\n",
    "\n",
    "> The `transform` argument specifies which transform do we want to use to pre-process the input batch. See [`Transforms`](https://carefree0910.me/carefree-learn-doc/docs/user-guides/computer-vision#transforms) for more details."
   ]
  },
  {
   "cell_type": "markdown",
   "metadata": {},
   "source": [
    "### Build Model\n",
    "\n",
    "For demo purpose, we are going to build a simple convolution-based classifier:"
   ]
  },
  {
   "cell_type": "code",
   "execution_count": 2,
   "metadata": {},
   "outputs": [],
   "source": [
    "@cflearn.register_module(\"simple_conv\")\n",
    "class SimpleConvClassifier(nn.Sequential):\n",
    "    def __init__(self, in_channels: int, num_classes: int):\n",
    "        super().__init__(\n",
    "            nn.Conv2d(in_channels, 16, 3, padding=1),\n",
    "            nn.ReLU(inplace=True),\n",
    "            nn.BatchNorm2d(16),\n",
    "            nn.MaxPool2d(2),\n",
    "            nn.Conv2d(16, 32, 3, padding=1),\n",
    "            nn.ReLU(inplace=True),\n",
    "            nn.BatchNorm2d(32),\n",
    "            nn.MaxPool2d(2),\n",
    "            nn.Conv2d(32, 64, 3, padding=1),\n",
    "            nn.ReLU(inplace=True),\n",
    "            nn.BatchNorm2d(64),\n",
    "            nn.MaxPool2d(2),\n",
    "            nn.Conv2d(64, 128, 3, padding=1),\n",
    "            nn.ReLU(inplace=True),\n",
    "            nn.AdaptiveAvgPool2d(1),\n",
    "            nn.Flatten(1),\n",
    "            nn.Linear(128, num_classes),\n",
    "        )"
   ]
  },
  {
   "cell_type": "markdown",
   "metadata": {},
   "source": [
    "We leveraged the [`register_module`](https://carefree0910.me/carefree-learn-doc/docs/developer-guides/computer-vision-customization#customize-models) API here, which can turn a general `nn.Module` instance to a [`IDLModel`](https://carefree0910.me/carefree-learn-doc/docs/design-principles/#model) in `carefree-learn`. After registered, it can be easily accessed with its name (`\"simple_conv\"`):"
   ]
  },
  {
   "cell_type": "code",
   "execution_count": 3,
   "metadata": {
    "scrolled": true
   },
   "outputs": [
    {
     "name": "stderr",
     "output_type": "stream",
     "text": [
      "D:\\anaconda\\envs\\cflearn\\lib\\site-packages\\torchvision\\datasets\\mnist.py:498: UserWarning: The given NumPy array is not writeable, and PyTorch does not support non-writeable tensors. This means you can write to the underlying (supposedly non-writeable) NumPy array using the tensor. You may want to copy the array to protect its data or make it writeable before converting it to a tensor. This type of warning will be suppressed for the rest of this program. (Triggered internally at  ..\\torch\\csrc\\utils\\tensor_numpy.cpp:180.)\n",
      "  return torch.from_numpy(parsed.astype(m[2], copy=False)).view(*s)\n"
     ]
    },
    {
     "name": "stdout",
     "output_type": "stream",
     "text": [
      "========================================================================================================================\n",
      "Layer (type)                             Input Shape                             Output Shape    Trainable Param #\n",
      "------------------------------------------------------------------------------------------------------------------------\n",
      "_                                                                                                                 \n",
      "  SimpleConvClassifier               [-1, 1, 28, 28]                                 [-1, 10]               98,666\n",
      "    Conv2d-0                         [-1, 1, 28, 28]                         [-1, 16, 28, 28]                  160\n",
      "    ReLU-0                          [-1, 16, 28, 28]                         [-1, 16, 28, 28]                    0\n",
      "    BatchNorm2d-0                   [-1, 16, 28, 28]                         [-1, 16, 28, 28]                   32\n",
      "    MaxPool2d-0                     [-1, 16, 28, 28]                         [-1, 16, 14, 14]                    0\n",
      "    Conv2d-1                        [-1, 16, 14, 14]                         [-1, 32, 14, 14]                4,640\n",
      "    ReLU-1                          [-1, 32, 14, 14]                         [-1, 32, 14, 14]                    0\n",
      "    BatchNorm2d-1                   [-1, 32, 14, 14]                         [-1, 32, 14, 14]                   64\n",
      "    MaxPool2d-1                     [-1, 32, 14, 14]                           [-1, 32, 7, 7]                    0\n",
      "    Conv2d-2                          [-1, 32, 7, 7]                           [-1, 64, 7, 7]               18,496\n",
      "    ReLU-2                            [-1, 64, 7, 7]                           [-1, 64, 7, 7]                    0\n",
      "    BatchNorm2d-2                     [-1, 64, 7, 7]                           [-1, 64, 7, 7]                  128\n",
      "    MaxPool2d-2                       [-1, 64, 7, 7]                           [-1, 64, 3, 3]                    0\n",
      "    Conv2d-3                          [-1, 64, 3, 3]                          [-1, 128, 3, 3]               73,856\n",
      "    ReLU-3                           [-1, 128, 3, 3]                          [-1, 128, 3, 3]                    0\n",
      "    AdaptiveAvgPool2d                [-1, 128, 3, 3]                          [-1, 128, 1, 1]                    0\n",
      "    Flatten                          [-1, 128, 1, 1]                                [-1, 128]                    0\n",
      "    Linear                                 [-1, 128]                                 [-1, 10]                1,290\n",
      "========================================================================================================================\n",
      "Total params: 98,666\n",
      "Trainable params: 98,666\n",
      "Non-trainable params: 0\n",
      "------------------------------------------------------------------------------------------------------------------------\n",
      "Input size (MB): 0.00\n",
      "Forward/backward pass size (MB): 0.56\n",
      "Params size (MB): 0.38\n",
      "Estimated Total Size (MB): 0.94\n",
      "------------------------------------------------------------------------------------------------------------------------\n",
      ">  [ info ] entered training loop\n",
      "| epoch  1   [1000 / 3750] [10.751s] | acc : 0.978500 | score : 0.978500 |\n",
      "| epoch  1   [2000 / 3750] [8.573s] | acc : 0.979900 | score : 0.979900 |\n",
      "| epoch  1   [3000 / 3750] [9.491s] | acc : 0.980400 | score : 0.980400 |\n",
      ">  [ info ] rolling back to the best checkpoint\n",
      ">  [ info ] restoring from _logs\\2021-10-24_09-18-23-516295\\checkpoints\\model_3000.pt\n",
      "| epoch  -1  [  -1 / 3750] [6.907s] | acc : 0.980400 | score : 0.980400 |\n"
     ]
    },
    {
     "data": {
      "text/plain": [
       "<cflearn.api.cv.pipeline.CarefreePipeline at 0x28783eb4160>"
      ]
     },
     "execution_count": 3,
     "metadata": {},
     "output_type": "execute_result"
    }
   ],
   "source": [
    "cflearn.api.fit_cv(\n",
    "    data,\n",
    "    \"simple_conv\",\n",
    "    {\"in_channels\": 1, \"num_classes\": 10},\n",
    "    loss_name=\"cross_entropy\",\n",
    "    metric_names=\"acc\",\n",
    "    fixed_epoch=1,                                  # for demo purpose, we only train our model for 1 epoch\n",
    "    cuda=0 if torch.cuda.is_available() else None,  # use CUDA if possible\n",
    ")"
   ]
  },
  {
   "cell_type": "markdown",
   "metadata": {},
   "source": [
    "Our model achieves 98.0400% accuracy on validation set within 1 epoch, not bad!"
   ]
  }
 ],
 "metadata": {
  "kernelspec": {
   "display_name": "Python 3",
   "language": "python",
   "name": "python3"
  },
  "language_info": {
   "codemirror_mode": {
    "name": "ipython",
    "version": 3
   },
   "file_extension": ".py",
   "mimetype": "text/x-python",
   "name": "python",
   "nbconvert_exporter": "python",
   "pygments_lexer": "ipython3",
   "version": "3.6.13"
  }
 },
 "nbformat": 4,
 "nbformat_minor": 2
}
