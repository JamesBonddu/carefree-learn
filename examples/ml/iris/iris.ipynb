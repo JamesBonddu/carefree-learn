{
 "cells": [
  {
   "cell_type": "markdown",
   "metadata": {},
   "source": [
    "## Iris\n",
    "\n",
    "Here are some of the information provided by the official website:\n",
    "\n",
    "```text\n",
    "This is perhaps the best known database to be found in the pattern recognition literature.\n",
    "The data set contains 3 classes of 50 instances each, where each class refers to a type of iris plant.\n",
    "Predicted attribute: class of iris plant.\n",
    "```\n",
    "\n",
    "And here's the pandas-view of the raw data:\n",
    "\n",
    "```text\n",
    "      f0   f1   f2   f3           label\n",
    "0    5.1  3.5  1.4  0.2     Iris-setosa\n",
    "1    4.9  3.0  1.4  0.2     Iris-setosa\n",
    "2    4.7  3.2  1.3  0.2     Iris-setosa\n",
    "3    4.6  3.1  1.5  0.2     Iris-setosa\n",
    "4    5.0  3.6  1.4  0.2     Iris-setosa\n",
    "..   ...  ...  ...  ...             ...\n",
    "145  6.7  3.0  5.2  2.3  Iris-virginica\n",
    "146  6.3  2.5  5.0  1.9  Iris-virginica\n",
    "147  6.5  3.0  5.2  2.0  Iris-virginica\n",
    "148  6.2  3.4  5.4  2.3  Iris-virginica\n",
    "149  5.9  3.0  5.1  1.8  Iris-virginica\n",
    "\n",
    "[150 rows x 5 columns]\n",
    "```\n",
    "\n",
    "> We didn't use pandas in our code, but it is convenient to visualize some data with it though 🤣\n",
    ">\n",
    "> You can download the raw data (`iris.data`) with [this link](https://archive.ics.uci.edu/ml/machine-learning-databases/iris/iris.data)."
   ]
  },
  {
   "cell_type": "code",
   "execution_count": 1,
   "metadata": {},
   "outputs": [
    {
     "data": {
      "text/html": [
       "<style type='text/css'>\n",
       ".datatable table.frame { margin-bottom: 0; }\n",
       ".datatable table.frame thead { border-bottom: none; }\n",
       ".datatable table.frame tr.coltypes td {  color: #FFFFFF;  line-height: 6px;  padding: 0 0.5em;}\n",
       ".datatable .bool    { background: #DDDD99; }\n",
       ".datatable .object  { background: #565656; }\n",
       ".datatable .int     { background: #5D9E5D; }\n",
       ".datatable .float   { background: #4040CC; }\n",
       ".datatable .str     { background: #CC4040; }\n",
       ".datatable .time    { background: #40CC40; }\n",
       ".datatable .row_index {  background: var(--jp-border-color3);  border-right: 1px solid var(--jp-border-color0);  color: var(--jp-ui-font-color3);  font-size: 9px;}\n",
       ".datatable .frame tbody td { text-align: left; }\n",
       ".datatable .frame tr.coltypes .row_index {  background: var(--jp-border-color0);}\n",
       ".datatable th:nth-child(2) { padding-left: 12px; }\n",
       ".datatable .hellipsis {  color: var(--jp-cell-editor-border-color);}\n",
       ".datatable .vellipsis {  background: var(--jp-layout-color0);  color: var(--jp-cell-editor-border-color);}\n",
       ".datatable .na {  color: var(--jp-cell-editor-border-color);  font-size: 80%;}\n",
       ".datatable .sp {  opacity: 0.25;}\n",
       ".datatable .footer { font-size: 9px; }\n",
       ".datatable .frame_dimensions {  background: var(--jp-border-color3);  border-top: 1px solid var(--jp-border-color0);  color: var(--jp-ui-font-color3);  display: inline-block;  opacity: 0.6;  padding: 1px 10px 1px 5px;}\n",
       "</style>\n"
      ],
      "text/plain": [
       "<IPython.core.display.HTML object>"
      ]
     },
     "metadata": {},
     "output_type": "display_data"
    },
    {
     "name": "stdout",
     "output_type": "stream",
     "text": [
      "(CVXPY) Jun 15 06:08:29 PM: Encountered unexpected exception importing solver GLOP:\n",
      "RuntimeError('Version of ortools (9.0.9048) is too old. Expected >= 9.3.0.')\n",
      "(CVXPY) Jun 15 06:08:29 PM: Encountered unexpected exception importing solver PDLP:\n",
      "RuntimeError('Version of ortools (9.0.9048) is too old. Expected >= 9.3.0.')\n",
      "> [warning] `faiss` need to be installed to use faiss based scripts\n"
     ]
    },
    {
     "data": {
      "text/plain": [
       "<torch._C.Generator at 0x1f555add930>"
      ]
     },
     "execution_count": 1,
     "metadata": {},
     "output_type": "execute_result"
    }
   ],
   "source": [
    "# preparations\n",
    "\n",
    "import os\n",
    "import torch\n",
    "import pickle\n",
    "import cflearn\n",
    "import numpy as np\n",
    "\n",
    "np.random.seed(142857)\n",
    "torch.manual_seed(142857)"
   ]
  },
  {
   "cell_type": "markdown",
   "metadata": {},
   "source": [
    "### Basic Usages\n",
    "\n",
    "Traditionally, we need to process the raw data before we feed them into our machine learning models (e.g. encode the label column, which is a string column, into an ordinal column). In carefree-learn, however, we can train neural networks directly on files without worrying about the rest:"
   ]
  },
  {
   "cell_type": "code",
   "execution_count": 2,
   "metadata": {
    "scrolled": true
   },
   "outputs": [
    {
     "name": "stdout",
     "output_type": "stream",
     "text": [
      "========================================================================================================================\n",
      "Layer (type)                             Input Shape                             Output Shape    Trainable Param #\n",
      "------------------------------------------------------------------------------------------------------------------------\n",
      "MLModel                                                                                                           \n",
      "  FCNN                                                                                                            \n",
      "    Sequential                               [-1, 4]                                  [-1, 3]                1,315\n",
      "      Mapping-0                              [-1, 4]                                 [-1, 32]                  160\n",
      "        Linear                               [-1, 4]                                 [-1, 32]                  160\n",
      "        ReLU                                [-1, 32]                                 [-1, 32]                    0\n",
      "      Mapping-1                             [-1, 32]                                 [-1, 32]                1,056\n",
      "        Linear                              [-1, 32]                                 [-1, 32]                1,056\n",
      "        ReLU                                [-1, 32]                                 [-1, 32]                    0\n",
      "      Linear                                [-1, 32]                                  [-1, 3]                   99\n",
      "========================================================================================================================\n",
      "Total params: 1,315\n",
      "Trainable params: 1,315\n",
      "Non-trainable params: 0\n",
      "------------------------------------------------------------------------------------------------------------------------\n",
      "Input size (MB): 0.00\n",
      "Forward/backward pass size (MB): 0.00\n",
      "Params size (MB): 0.01\n",
      "Estimated Total Size (MB): 0.01\n",
      "------------------------------------------------------------------------------------------------------------------------\n",
      ">  [ info ] entered training loop\n",
      ">  [ info ] rolling back to the best checkpoint\n",
      ">  [ info ] restoring from _logs\\2022-06-15_18-08-37-791515\\checkpoints\\model_164.pt\n",
      "| epoch  -1  [-1 / 1] [1.644s] | acc : 0.866666 | auc : 0.971200 | score : 0.918933 |\n"
     ]
    }
   ],
   "source": [
    "m = cflearn.api.fit_ml(\"iris.data\", carefree=True)"
   ]
  },
  {
   "cell_type": "markdown",
   "metadata": {},
   "source": [
    "What's going under the hood is that carefree-learn will try to parse the `iris.data` automatically (with the help of [carefree-data](https://github.com/carefree0910/carefree-data)), split the data into training set and validation set, with which we'll train a fully connected neural network (fcnn).\n",
    "\n",
    "We can further inspect the processed data if we want to know how carefree-learn actually parsed the input data:"
   ]
  },
  {
   "cell_type": "code",
   "execution_count": 3,
   "metadata": {},
   "outputs": [
    {
     "name": "stdout",
     "output_type": "stream",
     "text": [
      "[5.1 3.5 1.4 0.2]\n",
      "['Iris-setosa']\n",
      "[-0.9006812  1.0320569 -1.3412726 -1.3129768]\n",
      "[2]\n"
     ]
    }
   ],
   "source": [
    "print(m.cf_data.raw.x[0])\n",
    "print(m.cf_data.raw.y[0])\n",
    "print(m.cf_data.processed.x[0])\n",
    "print(m.cf_data.processed.y[0])"
   ]
  },
  {
   "cell_type": "markdown",
   "metadata": {},
   "source": [
    "It shows that the raw data is carefully normalized into numerical data that neural networks can accept. What's more, by saying *normalized*, it means that the input features will be automatically normalized to `mean=0.0` and `std=1.0`:"
   ]
  },
  {
   "cell_type": "code",
   "execution_count": 4,
   "metadata": {
    "scrolled": false
   },
   "outputs": [
    {
     "name": "stdout",
     "output_type": "stream",
     "text": [
      "[-5.5631002e-09 -3.2588841e-07 -1.5576680e-07 -5.7220458e-08]\n",
      "[0.9999999 1.0000001 1.0000002 0.9999999]\n"
     ]
    }
   ],
   "source": [
    "data = m.data\n",
    "x_train, y_train = data.train_cf_data.processed.xy\n",
    "x_valid, y_valid = data.valid_cf_data.processed.xy\n",
    "stacked = np.vstack([x_train, x_valid])\n",
    "print(stacked.mean(0))\n",
    "print(stacked.std(0))"
   ]
  },
  {
   "cell_type": "markdown",
   "metadata": {},
   "source": [
    "> The results shown above means we first normalized the data before we actually split it into train & validation set.\n",
    "\n",
    "After training on files, carefree-learn can predict & evaluate on files directly as well. We'll handle the data parsing and normalization for you automatically:"
   ]
  },
  {
   "cell_type": "code",
   "execution_count": 5,
   "metadata": {},
   "outputs": [
    {
     "name": "stdout",
     "output_type": "stream",
     "text": [
      ">  [ info ] Results\n",
      "================================================================================================================================\n",
      "|        metrics         |                       acc                        |                       auc                        |\n",
      "--------------------------------------------------------------------------------------------------------------------------------\n",
      "|                        |      mean      |      std       |     score      |      mean      |      std       |     score      |\n",
      "--------------------------------------------------------------------------------------------------------------------------------\n",
      "|          fcnn          |    0.860000    |    0.000000    |    0.860000    |    0.968999    |    0.000000    |    0.968999    |\n",
      "================================================================================================================================\n",
      "\n"
     ]
    },
    {
     "data": {
      "text/plain": [
       "<cfml.misc.toolkit.Comparer at 0x1f5541db490>"
      ]
     },
     "execution_count": 5,
     "metadata": {},
     "output_type": "execute_result"
    }
   ],
   "source": [
    "# instantiate an `MLInferenceData` instance\n",
    "idata = cflearn.MLInferenceData(\"iris.data\")\n",
    "# `contains_labels` is set to True because `iris.data` itself contains labels\n",
    "predictions = m.predict(idata, contains_labels=True)\n",
    "# It is OK to simply call `m.predict(\"iris.data\")` because `contains_labels` is True by default\n",
    "predictions = m.predict(idata)\n",
    "# evaluations could be achieved easily with cflearn.evaluate\n",
    "cflearn.ml.evaluate(idata, metrics=[\"acc\", \"auc\"], pipelines=m)"
   ]
  },
  {
   "cell_type": "markdown",
   "metadata": {},
   "source": [
    "### Benchmarking\n",
    "\n",
    "As we know, neural networks are trained with **_stochastic_** gradient descent (and its variants), which will introduce some randomness to the final result, even if we are training on the same dataset. In this case, we need to repeat the same task several times in order to obtain the bias & variance of our neural networks.\n",
    "\n",
    "Fortunately, carefree-learn introduced `repeat_ml` API, which can achieve this goal easily with only a few lines of code:"
   ]
  },
  {
   "cell_type": "code",
   "execution_count": 6,
   "metadata": {
    "scrolled": true
   },
   "outputs": [
    {
     "data": {
      "application/vnd.jupyter.widget-view+json": {
       "model_id": "bac049ef95bc456a8100e250c1ac7436",
       "version_major": 2,
       "version_minor": 0
      },
      "text/plain": [
       "  0%|          | 0/1 [00:00<?, ?it/s]"
      ]
     },
     "metadata": {},
     "output_type": "display_data"
    },
    {
     "data": {
      "application/vnd.jupyter.widget-view+json": {
       "model_id": "",
       "version_major": 2,
       "version_minor": 0
      },
      "text/plain": [
       "  0%|          | 0/3 [00:00<?, ?it/s]"
      ]
     },
     "metadata": {},
     "output_type": "display_data"
    },
    {
     "name": "stdout",
     "output_type": "stream",
     "text": [
      "========================================================================================================================\n",
      "Layer (type)                             Input Shape                             Output Shape    Trainable Param #\n",
      "------------------------------------------------------------------------------------------------------------------------\n",
      "MLModel                                                                                                           \n",
      "  FCNN                                                                                                            \n",
      "    Sequential                               [-1, 4]                                  [-1, 3]                1,315\n",
      "      Mapping-0                              [-1, 4]                                 [-1, 32]                  160\n",
      "        Linear                               [-1, 4]                                 [-1, 32]                  160\n",
      "        ReLU                                [-1, 32]                                 [-1, 32]                    0\n",
      "      Mapping-1                             [-1, 32]                                 [-1, 32]                1,056\n",
      "        Linear                              [-1, 32]                                 [-1, 32]                1,056\n",
      "        ReLU                                [-1, 32]                                 [-1, 32]                    0\n",
      "      Linear                                [-1, 32]                                  [-1, 3]                   99\n",
      "========================================================================================================================\n",
      "Total params: 1,315\n",
      "Trainable params: 1,315\n",
      "Non-trainable params: 0\n",
      "------------------------------------------------------------------------------------------------------------------------\n",
      "Input size (MB): 0.00\n",
      "Forward/backward pass size (MB): 0.00\n",
      "Params size (MB): 0.01\n",
      "Estimated Total Size (MB): 0.01\n",
      "------------------------------------------------------------------------------------------------------------------------\n",
      ">  [ info ] entered training loop\n",
      ">  [ info ] rolling back to the best checkpoint\n",
      ">  [ info ] restoring from _repeat\\fcnn\\0\\2022-06-15_18-08-39-805656\\checkpoints\\model_141.pt\n",
      "| epoch  -1  [-1 / 1] [0.987s] | acc : 0.973333 | auc : 0.998399 | score : 0.985866 |\n",
      "========================================================================================================================\n",
      "Layer (type)                             Input Shape                             Output Shape    Trainable Param #\n",
      "------------------------------------------------------------------------------------------------------------------------\n",
      "MLModel                                                                                                           \n",
      "  FCNN                                                                                                            \n",
      "    Sequential                               [-1, 4]                                  [-1, 3]                1,315\n",
      "      Mapping-0                              [-1, 4]                                 [-1, 32]                  160\n",
      "        Linear                               [-1, 4]                                 [-1, 32]                  160\n",
      "        ReLU                                [-1, 32]                                 [-1, 32]                    0\n",
      "      Mapping-1                             [-1, 32]                                 [-1, 32]                1,056\n",
      "        Linear                              [-1, 32]                                 [-1, 32]                1,056\n",
      "        ReLU                                [-1, 32]                                 [-1, 32]                    0\n",
      "      Linear                                [-1, 32]                                  [-1, 3]                   99\n",
      "========================================================================================================================\n",
      "Total params: 1,315\n",
      "Trainable params: 1,315\n",
      "Non-trainable params: 0\n",
      "------------------------------------------------------------------------------------------------------------------------\n",
      "Input size (MB): 0.00\n",
      "Forward/backward pass size (MB): 0.00\n",
      "Params size (MB): 0.01\n",
      "Estimated Total Size (MB): 0.01\n",
      "------------------------------------------------------------------------------------------------------------------------\n",
      ">  [ info ] entered training loop\n",
      ">  [ info ] rolling back to the best checkpoint\n",
      ">  [ info ] restoring from _repeat\\fcnn\\1\\2022-06-15_18-08-40-802851\\checkpoints\\model_243.pt\n",
      "| epoch  -1  [-1 / 1] [1.381s] | acc : 0.960000 | auc : 0.996533 | score : 0.978266 |\n",
      "========================================================================================================================\n",
      "Layer (type)                             Input Shape                             Output Shape    Trainable Param #\n",
      "------------------------------------------------------------------------------------------------------------------------\n",
      "MLModel                                                                                                           \n",
      "  FCNN                                                                                                            \n",
      "    Sequential                               [-1, 4]                                  [-1, 3]                1,315\n",
      "      Mapping-0                              [-1, 4]                                 [-1, 32]                  160\n",
      "        Linear                               [-1, 4]                                 [-1, 32]                  160\n",
      "        ReLU                                [-1, 32]                                 [-1, 32]                    0\n",
      "      Mapping-1                             [-1, 32]                                 [-1, 32]                1,056\n",
      "        Linear                              [-1, 32]                                 [-1, 32]                1,056\n",
      "        ReLU                                [-1, 32]                                 [-1, 32]                    0\n",
      "      Linear                                [-1, 32]                                  [-1, 3]                   99\n",
      "========================================================================================================================\n",
      "Total params: 1,315\n",
      "Trainable params: 1,315\n",
      "Non-trainable params: 0\n",
      "------------------------------------------------------------------------------------------------------------------------\n",
      "Input size (MB): 0.00\n",
      "Forward/backward pass size (MB): 0.00\n",
      "Params size (MB): 0.01\n",
      "Estimated Total Size (MB): 0.01\n",
      "------------------------------------------------------------------------------------------------------------------------\n",
      ">  [ info ] entered training loop\n",
      ">  [ info ] rolling back to the best checkpoint\n",
      ">  [ info ] restoring from _repeat\\fcnn\\2\\2022-06-15_18-08-42-196431\\checkpoints\\model_258.pt\n",
      "| epoch  -1  [-1 / 1] [1.448s] | acc : 0.946666 | auc : 0.995733 | score : 0.971200 |\n"
     ]
    }
   ],
   "source": [
    "# With num_repeat=3 specified, we'll train 3 models on `iris.data`.\n",
    "result = cflearn.api.repeat_ml(\"iris.data\", carefree=True, num_repeat=3)"
   ]
  },
  {
   "cell_type": "code",
   "execution_count": 7,
   "metadata": {},
   "outputs": [
    {
     "name": "stdout",
     "output_type": "stream",
     "text": [
      ">  [ info ] Results\n",
      "================================================================================================================================\n",
      "|        metrics         |                       acc                        |                       auc                        |\n",
      "--------------------------------------------------------------------------------------------------------------------------------\n",
      "|                        |      mean      |      std       |     score      |      mean      |      std       |     score      |\n",
      "--------------------------------------------------------------------------------------------------------------------------------\n",
      "|          fcnn          |    0.971111    |    0.008314    |    0.962796    |    0.998022    |    0.000833    |    0.997188    |\n",
      "================================================================================================================================\n",
      "\n"
     ]
    },
    {
     "data": {
      "text/plain": [
       "<cfml.misc.toolkit.Comparer at 0x1f524b510a0>"
      ]
     },
     "execution_count": 7,
     "metadata": {},
     "output_type": "execute_result"
    }
   ],
   "source": [
    "cflearn.ml.evaluate(idata, metrics=[\"acc\", \"auc\"], pipelines=result.pipelines)"
   ]
  },
  {
   "cell_type": "markdown",
   "metadata": {},
   "source": [
    "We can also compare the performances across different models:"
   ]
  },
  {
   "cell_type": "code",
   "execution_count": 8,
   "metadata": {
    "scrolled": true
   },
   "outputs": [
    {
     "name": "stdout",
     "output_type": "stream",
     "text": [
      "> [warning] '_repeat' already exists, it will be erased\n"
     ]
    },
    {
     "data": {
      "application/vnd.jupyter.widget-view+json": {
       "model_id": "6cb2b5747fd748e087fba89f0cef1a7e",
       "version_major": 2,
       "version_minor": 0
      },
      "text/plain": [
       "  0%|          | 0/2 [00:00<?, ?it/s]"
      ]
     },
     "metadata": {},
     "output_type": "display_data"
    },
    {
     "data": {
      "application/vnd.jupyter.widget-view+json": {
       "model_id": "",
       "version_major": 2,
       "version_minor": 0
      },
      "text/plain": [
       "  0%|          | 0/3 [00:00<?, ?it/s]"
      ]
     },
     "metadata": {},
     "output_type": "display_data"
    },
    {
     "name": "stdout",
     "output_type": "stream",
     "text": [
      "========================================================================================================================\n",
      "Layer (type)                             Input Shape                             Output Shape    Trainable Param #\n",
      "------------------------------------------------------------------------------------------------------------------------\n",
      "MLModel                                                                                                           \n",
      "  Linear                                                                                                          \n",
      "    Linear                                   [-1, 4]                                  [-1, 3]                   15\n",
      "========================================================================================================================\n",
      "Total params: 15\n",
      "Trainable params: 15\n",
      "Non-trainable params: 0\n",
      "------------------------------------------------------------------------------------------------------------------------\n",
      "Input size (MB): 0.00\n",
      "Forward/backward pass size (MB): 0.00\n",
      "Params size (MB): 0.00\n",
      "Estimated Total Size (MB): 0.00\n",
      "------------------------------------------------------------------------------------------------------------------------\n",
      ">  [ info ] entered training loop\n",
      "| epoch 350  [1 / 1] [1.777s] | acc : 0.800000 | auc : 0.909600 | score : 0.854800 |\n",
      ">  [ info ] rolling back to the best checkpoint\n",
      ">  [ info ] restoring from _repeat\\linear\\0\\2022-06-15_18-08-43-755765\\checkpoints\\model_385.pt\n",
      "| epoch  -1  [-1 / 1] [0.229s] | acc : 0.826666 | auc : 0.914400 | score : 0.870533 |\n",
      "========================================================================================================================\n",
      "Layer (type)                             Input Shape                             Output Shape    Trainable Param #\n",
      "------------------------------------------------------------------------------------------------------------------------\n",
      "MLModel                                                                                                           \n",
      "  Linear                                                                                                          \n",
      "    Linear                                   [-1, 4]                                  [-1, 3]                   15\n",
      "========================================================================================================================\n",
      "Total params: 15\n",
      "Trainable params: 15\n",
      "Non-trainable params: 0\n",
      "------------------------------------------------------------------------------------------------------------------------\n",
      "Input size (MB): 0.00\n",
      "Forward/backward pass size (MB): 0.00\n",
      "Params size (MB): 0.00\n",
      "Estimated Total Size (MB): 0.00\n",
      "------------------------------------------------------------------------------------------------------------------------\n",
      ">  [ info ] entered training loop\n",
      ">  [ info ] rolling back to the best checkpoint\n",
      ">  [ info ] restoring from _repeat\\linear\\1\\2022-06-15_18-08-45-771944\\checkpoints\\model_313.pt\n",
      "| epoch  -1  [-1 / 1] [1.625s] | acc : 0.986666 | auc : 1.000000 | score : 0.993333 |\n",
      "========================================================================================================================\n",
      "Layer (type)                             Input Shape                             Output Shape    Trainable Param #\n",
      "------------------------------------------------------------------------------------------------------------------------\n",
      "MLModel                                                                                                           \n",
      "  Linear                                                                                                          \n",
      "    Linear                                   [-1, 4]                                  [-1, 3]                   15\n",
      "========================================================================================================================\n",
      "Total params: 15\n",
      "Trainable params: 15\n",
      "Non-trainable params: 0\n",
      "------------------------------------------------------------------------------------------------------------------------\n",
      "Input size (MB): 0.00\n",
      "Forward/backward pass size (MB): 0.00\n",
      "Params size (MB): 0.00\n",
      "Estimated Total Size (MB): 0.00\n",
      "------------------------------------------------------------------------------------------------------------------------\n",
      ">  [ info ] entered training loop\n",
      ">  [ info ] rolling back to the best checkpoint\n",
      ">  [ info ] restoring from _repeat\\linear\\2\\2022-06-15_18-08-47-406263\\checkpoints\\model_323.pt\n",
      "| epoch  -1  [-1 / 1] [1.706s] | acc : 0.906666 | auc : 0.944266 | score : 0.925466 |\n"
     ]
    },
    {
     "data": {
      "application/vnd.jupyter.widget-view+json": {
       "model_id": "",
       "version_major": 2,
       "version_minor": 0
      },
      "text/plain": [
       "  0%|          | 0/3 [00:00<?, ?it/s]"
      ]
     },
     "metadata": {},
     "output_type": "display_data"
    },
    {
     "name": "stdout",
     "output_type": "stream",
     "text": [
      "========================================================================================================================\n",
      "Layer (type)                             Input Shape                             Output Shape    Trainable Param #\n",
      "------------------------------------------------------------------------------------------------------------------------\n",
      "MLModel                                                                                                           \n",
      "  FCNN                                                                                                            \n",
      "    Sequential                               [-1, 4]                                  [-1, 3]                1,315\n",
      "      Mapping-0                              [-1, 4]                                 [-1, 32]                  160\n",
      "        Linear                               [-1, 4]                                 [-1, 32]                  160\n",
      "        ReLU                                [-1, 32]                                 [-1, 32]                    0\n",
      "      Mapping-1                             [-1, 32]                                 [-1, 32]                1,056\n",
      "        Linear                              [-1, 32]                                 [-1, 32]                1,056\n",
      "        ReLU                                [-1, 32]                                 [-1, 32]                    0\n",
      "      Linear                                [-1, 32]                                  [-1, 3]                   99\n",
      "========================================================================================================================\n",
      "Total params: 1,315\n",
      "Trainable params: 1,315\n",
      "Non-trainable params: 0\n",
      "------------------------------------------------------------------------------------------------------------------------\n",
      "Input size (MB): 0.00\n",
      "Forward/backward pass size (MB): 0.00\n",
      "Params size (MB): 0.01\n",
      "Estimated Total Size (MB): 0.01\n",
      "------------------------------------------------------------------------------------------------------------------------\n",
      ">  [ info ] entered training loop\n",
      ">  [ info ] rolling back to the best checkpoint\n",
      ">  [ info ] restoring from _repeat\\fcnn\\0\\2022-06-15_18-08-49-140451\\checkpoints\\model_263.pt\n",
      "| epoch  -1  [-1 / 1] [1.567s] | acc : 0.933333 | auc : 0.993066 | score : 0.963200 |\n",
      "========================================================================================================================\n",
      "Layer (type)                             Input Shape                             Output Shape    Trainable Param #\n",
      "------------------------------------------------------------------------------------------------------------------------\n",
      "MLModel                                                                                                           \n",
      "  FCNN                                                                                                            \n",
      "    Sequential                               [-1, 4]                                  [-1, 3]                1,315\n",
      "      Mapping-0                              [-1, 4]                                 [-1, 32]                  160\n",
      "        Linear                               [-1, 4]                                 [-1, 32]                  160\n",
      "        ReLU                                [-1, 32]                                 [-1, 32]                    0\n",
      "      Mapping-1                             [-1, 32]                                 [-1, 32]                1,056\n",
      "        Linear                              [-1, 32]                                 [-1, 32]                1,056\n",
      "        ReLU                                [-1, 32]                                 [-1, 32]                    0\n",
      "      Linear                                [-1, 32]                                  [-1, 3]                   99\n",
      "========================================================================================================================\n",
      "Total params: 1,315\n",
      "Trainable params: 1,315\n",
      "Non-trainable params: 0\n",
      "------------------------------------------------------------------------------------------------------------------------\n",
      "Input size (MB): 0.00\n",
      "Forward/backward pass size (MB): 0.00\n",
      "Params size (MB): 0.01\n",
      "Estimated Total Size (MB): 0.01\n",
      "------------------------------------------------------------------------------------------------------------------------\n",
      ">  [ info ] entered training loop\n",
      ">  [ info ] rolling back to the best checkpoint\n",
      ">  [ info ] restoring from _repeat\\fcnn\\1\\2022-06-15_18-08-50-717068\\checkpoints\\model_24.pt\n",
      "| epoch  -1  [-1 / 1] [0.153s] | acc : 0.920000 | auc : 0.970933 | score : 0.945466 |\n",
      "========================================================================================================================\n",
      "Layer (type)                             Input Shape                             Output Shape    Trainable Param #\n",
      "------------------------------------------------------------------------------------------------------------------------\n",
      "MLModel                                                                                                           \n",
      "  FCNN                                                                                                            \n",
      "    Sequential                               [-1, 4]                                  [-1, 3]                1,315\n",
      "      Mapping-0                              [-1, 4]                                 [-1, 32]                  160\n",
      "        Linear                               [-1, 4]                                 [-1, 32]                  160\n",
      "        ReLU                                [-1, 32]                                 [-1, 32]                    0\n",
      "      Mapping-1                             [-1, 32]                                 [-1, 32]                1,056\n",
      "        Linear                              [-1, 32]                                 [-1, 32]                1,056\n",
      "        ReLU                                [-1, 32]                                 [-1, 32]                    0\n",
      "      Linear                                [-1, 32]                                  [-1, 3]                   99\n",
      "========================================================================================================================\n",
      "Total params: 1,315\n",
      "Trainable params: 1,315\n",
      "Non-trainable params: 0\n",
      "------------------------------------------------------------------------------------------------------------------------\n",
      "Input size (MB): 0.00\n",
      "Forward/backward pass size (MB): 0.00\n",
      "Params size (MB): 0.01\n",
      "Estimated Total Size (MB): 0.01\n",
      "------------------------------------------------------------------------------------------------------------------------\n",
      ">  [ info ] entered training loop\n",
      ">  [ info ] rolling back to the best checkpoint\n",
      ">  [ info ] restoring from _repeat\\fcnn\\2\\2022-06-15_18-08-50-880072\\checkpoints\\model_280.pt\n",
      "| epoch  -1  [-1 / 1] [1.248s] | acc : 0.866666 | auc : 0.964000 | score : 0.915333 |\n"
     ]
    }
   ],
   "source": [
    "# With models=[\"linear\", \"fcnn\"], we'll train both linear models and fcnn models.\n",
    "models = [\"linear\", \"fcnn\"]\n",
    "result = cflearn.api.repeat_ml(\"iris.data\", carefree=True, models=models, num_repeat=3)"
   ]
  },
  {
   "cell_type": "code",
   "execution_count": 9,
   "metadata": {},
   "outputs": [
    {
     "name": "stdout",
     "output_type": "stream",
     "text": [
      ">  [ info ] Results\n",
      "================================================================================================================================\n",
      "|        metrics         |                       acc                        |                       auc                        |\n",
      "--------------------------------------------------------------------------------------------------------------------------------\n",
      "|                        |      mean      |      std       |     score      |      mean      |      std       |     score      |\n",
      "--------------------------------------------------------------------------------------------------------------------------------\n",
      "|          fcnn          | -- 0.911111 -- | -- 0.034995 -- | -- 0.876115 -- | -- 0.977711 -- | -- 0.013338 -- | -- 0.964372 -- |\n",
      "--------------------------------------------------------------------------------------------------------------------------------\n",
      "|         linear         |    0.908888    |    0.061181    |    0.847707    |    0.956244    |    0.033641    |    0.922603    |\n",
      "================================================================================================================================\n",
      "\n"
     ]
    },
    {
     "data": {
      "text/plain": [
       "<cfml.misc.toolkit.Comparer at 0x1f524bd8f10>"
      ]
     },
     "execution_count": 9,
     "metadata": {},
     "output_type": "execute_result"
    }
   ],
   "source": [
    "cflearn.ml.evaluate(idata, metrics=[\"acc\", \"auc\"], pipelines=result.pipelines)"
   ]
  },
  {
   "cell_type": "markdown",
   "metadata": {},
   "source": [
    "It is worth mentioning that carefree-learn supports distributed training, which means when we need to perform large scale benchmarking (e.g. train 100 models), we could accelerate the process through multiprocessing:\n",
    "\n",
    "> In `carefree-learn`, Distributed Training in Machine Learning tasks sometimes doesn't mean training your model on multiple GPUs or multiple machines. Instead, it may mean training multiple models at the same time."
   ]
  },
  {
   "cell_type": "code",
   "execution_count": 10,
   "metadata": {
    "scrolled": true
   },
   "outputs": [
    {
     "name": "stdout",
     "output_type": "stream",
     "text": [
      "> [warning] '_repeat' already exists, it will be erased\n"
     ]
    },
    {
     "name": "stderr",
     "output_type": "stream",
     "text": [
      "100%|███████████████████████████████████████████████████████████████████████████████████████████████████████████████████████████████████████████████████████████████████████████████████████████████████████████| 10/10 [00:53<00:00,  5.33s/it]\n"
     ]
    },
    {
     "data": {
      "application/vnd.jupyter.widget-view+json": {
       "model_id": "737a305b45ed4aa39b38072bff5d3aa4",
       "version_major": 2,
       "version_minor": 0
      },
      "text/plain": [
       "load:   0%|          | 0/10 [00:00<?, ?it/s]"
      ]
     },
     "metadata": {},
     "output_type": "display_data"
    }
   ],
   "source": [
    "# With num_jobs=2, we will launch 2 processes to run the tasks in a distributed way.\n",
    "result = cflearn.api.repeat_ml(\"iris.data\", carefree=True, num_repeat=10, num_jobs=2)"
   ]
  },
  {
   "cell_type": "markdown",
   "metadata": {},
   "source": [
    "On iris dataset, however, launching distributed training will actually hurt the speed because iris dataset only contains 150 samples, so the relative overhead brought by distributed training will be too large.\n",
    "\n",
    "### Advanced Benchmarking\n",
    "\n",
    "But this is not enough, because we want to know whether other models (e.g. scikit-learn models) could achieve a better performance than carefree-learn models. In this case, we can perform an advanced benchmarking with the `Experiment` helper class."
   ]
  },
  {
   "cell_type": "code",
   "execution_count": 11,
   "metadata": {},
   "outputs": [
    {
     "data": {
      "text/plain": [
       "'D:\\\\GitHub\\\\carefree-learn\\\\examples\\\\ml\\\\iris\\\\__experiment__\\\\random_forest\\\\0'"
      ]
     },
     "execution_count": 11,
     "metadata": {},
     "output_type": "execute_result"
    }
   ],
   "source": [
    "experiment = cflearn.dist.ml.Experiment()\n",
    "data_folder = experiment.dump_data_bundle(x_train, y_train, x_valid, y_valid)\n",
    "\n",
    "# Add carefree-learn tasks\n",
    "experiment.add_task(model=\"fcnn\", data_folder=data_folder)\n",
    "experiment.add_task(model=\"linear\", data_folder=data_folder)\n",
    "# Add scikit-learn tasks\n",
    "run_command = f\"python run_sklearn.py\"\n",
    "common_kwargs = {\"run_command\": run_command, \"data_folder\": data_folder}\n",
    "experiment.add_task(model=\"decision_tree\", **common_kwargs)\n",
    "experiment.add_task(model=\"random_forest\", **common_kwargs)"
   ]
  },
  {
   "cell_type": "markdown",
   "metadata": {},
   "source": [
    "Notice that we specified `run_command=\"python run_sklearn.py\"` for scikit-learn tasks, which means `Experiment` will try to execute this command in the current working directory for training scikit-learn models. The good news is that we do not need to speciy any command line arguments, because `Experiment` will handle those for us.\n",
    "\n",
    "Here is basically what a `run_sklearn.py` should look like ([source code](run_sklearn.py)):\n",
    "\n",
    "```python\n",
    "import os\n",
    "import pickle\n",
    "\n",
    "from sklearn.tree import DecisionTreeClassifier\n",
    "from sklearn.ensemble import RandomForestClassifier\n",
    "from cflearn.dist.runs._utils import get_info\n",
    "\n",
    "if __name__ == \"__main__\":\n",
    "    info = get_info()\n",
    "    kwargs = info.kwargs\n",
    "    # data\n",
    "    data_list = info.data_list\n",
    "    x, y = data_list[:2]\n",
    "    # model\n",
    "    model = kwargs[\"model\"]\n",
    "    if model == \"decision_tree\":\n",
    "        base = DecisionTreeClassifier\n",
    "    elif model == \"random_forest\":\n",
    "        base = RandomForestClassifier\n",
    "    else:\n",
    "        raise NotImplementedError\n",
    "    sk_model = base()\n",
    "    # train & save\n",
    "    sk_model.fit(x, y.ravel())\n",
    "    with open(os.path.join(info.workplace, \"sk_model.pkl\"), \"wb\") as f:\n",
    "        pickle.dump(sk_model, f)\n",
    "```\n",
    "\n",
    "With `run_sklearn.py` defined, we could run those tasks with one line of code:"
   ]
  },
  {
   "cell_type": "code",
   "execution_count": 12,
   "metadata": {},
   "outputs": [
    {
     "name": "stderr",
     "output_type": "stream",
     "text": [
      "100%|█████████████████████████████████████████████████████████████████████████████████████████████████████████████████████████████████████████████████████████████████████████████████████████████████████████████| 4/4 [00:39<00:00, 10.00s/it]\n"
     ]
    }
   ],
   "source": [
    "results = experiment.run_tasks()"
   ]
  },
  {
   "cell_type": "markdown",
   "metadata": {},
   "source": [
    "After finished running, we should be able to see the following file structure in the current working directory:\n",
    "\n",
    "```text\n",
    "|--- __experiment__\n",
    "   |--- __data__\n",
    "      |-- x.npy\n",
    "      |-- y.npy\n",
    "      |-- x_valid.npy\n",
    "      |-- y_valid.npy\n",
    "   |--- fcnn/0\n",
    "      |-- 2021-04-24_10-54-03-361599  # this is a timestamp\n",
    "      |-- __meta__.json\n",
    "      |-- ml_pipeline.zip\n",
    "   |--- linear/0\n",
    "      |-- ...\n",
    "   |--- decision_tree/0\n",
    "      |-- __meta__.json\n",
    "      |-- sk_model.pkl\n",
    "   |--- random_forest/0\n",
    "      |-- ...\n",
    "```\n",
    "\n",
    "As we expected, carefree-learn models are saved into `.zip` files, while scikit-learn models are saved into `sk_model.pkl` files. Since these models are not yet loaded, we should manually load them into our environment:"
   ]
  },
  {
   "cell_type": "code",
   "execution_count": 13,
   "metadata": {},
   "outputs": [],
   "source": [
    "pipelines = {}\n",
    "sk_patterns = {}\n",
    "for workplace, workplace_key in zip(results.workplaces, results.workplace_keys):\n",
    "    model = workplace_key[0]\n",
    "    if model not in [\"decision_tree\", \"random_forest\"]:\n",
    "        pipelines[model] = cflearn.ml.task_loader(workplace)\n",
    "    else:\n",
    "        model_file = os.path.join(workplace, \"sk_model.pkl\")\n",
    "        with open(model_file, \"rb\") as f:\n",
    "            sk_model = pickle.load(f)\n",
    "            # In `carefree-learn`, we treat labels as column vectors.\n",
    "            # So we need to reshape the outputs from the scikit-learn models.\n",
    "            sk_predict = lambda d: sk_model.predict(d.x_train).reshape([-1, 1])\n",
    "            sk_predict_prob = lambda d: sk_model.predict_proba(d.x_train)\n",
    "            sk_pattern = cflearn.ml.ModelPattern(\n",
    "                predict_method=sk_predict,\n",
    "                predict_prob_method=sk_predict_prob,\n",
    "            )\n",
    "            sk_patterns[model] = sk_pattern"
   ]
  },
  {
   "cell_type": "markdown",
   "metadata": {},
   "source": [
    "After which we can finally perform benchmarking on these models:"
   ]
  },
  {
   "cell_type": "code",
   "execution_count": 14,
   "metadata": {},
   "outputs": [
    {
     "name": "stdout",
     "output_type": "stream",
     "text": [
      ">  [ info ] Results\n",
      "================================================================================================================================\n",
      "|        metrics         |                       acc                        |                       auc                        |\n",
      "--------------------------------------------------------------------------------------------------------------------------------\n",
      "|                        |      mean      |      std       |     score      |      mean      |      std       |     score      |\n",
      "--------------------------------------------------------------------------------------------------------------------------------\n",
      "|     decision_tree      | -- 0.920000 -- | -- 0.000000 -- | -- 0.920000 -- | -- 0.995599 -- | -- 0.000000 -- | -- 0.995599 -- |\n",
      "--------------------------------------------------------------------------------------------------------------------------------\n",
      "|          fcnn          |    0.893333    | -- 0.000000 -- |    0.893333    |    0.947200    | -- 0.000000 -- |    0.947200    |\n",
      "--------------------------------------------------------------------------------------------------------------------------------\n",
      "|         linear         | -- 0.920000 -- | -- 0.000000 -- | -- 0.920000 -- |    0.990133    | -- 0.000000 -- |    0.990133    |\n",
      "--------------------------------------------------------------------------------------------------------------------------------\n",
      "|     random_forest      | -- 0.920000 -- | -- 0.000000 -- | -- 0.920000 -- | -- 0.995599 -- | -- 0.000000 -- | -- 0.995599 -- |\n",
      "================================================================================================================================\n",
      "\n"
     ]
    },
    {
     "data": {
      "text/plain": [
       "<cfml.misc.toolkit.Comparer at 0x1f52bf486d0>"
      ]
     },
     "execution_count": 14,
     "metadata": {},
     "output_type": "execute_result"
    }
   ],
   "source": [
    "idata = cflearn.MLInferenceData(x_valid, y_valid)\n",
    "cflearn.ml.evaluate(idata, metrics=[\"acc\", \"auc\"], pipelines=pipelines, other_patterns=sk_patterns)"
   ]
  },
  {
   "cell_type": "markdown",
   "metadata": {},
   "source": [
    "### Conclusions\n",
    "\n",
    "Contained in this notebook is just a subset of the features that `carefree-learn` offers, but we've already walked through many basic & common steps we'll encounter in real life machine learning tasks."
   ]
  }
 ],
 "metadata": {
  "kernelspec": {
   "display_name": "Python 3 (ipykernel)",
   "language": "python",
   "name": "python3"
  },
  "language_info": {
   "codemirror_mode": {
    "name": "ipython",
    "version": 3
   },
   "file_extension": ".py",
   "mimetype": "text/x-python",
   "name": "python",
   "nbconvert_exporter": "python",
   "pygments_lexer": "ipython3",
   "version": "3.8.13"
  }
 },
 "nbformat": 4,
 "nbformat_minor": 2
}
